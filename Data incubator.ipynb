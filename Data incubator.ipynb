{
 "cells": [
  {
   "cell_type": "code",
   "execution_count": 2,
   "metadata": {
    "collapsed": true
   },
   "outputs": [],
   "source": [
    "import pandas as pd\n",
    "import numpy as np"
   ]
  },
  {
   "cell_type": "code",
   "execution_count": 14,
   "metadata": {
    "collapsed": true
   },
   "outputs": [],
   "source": [
    "import os\n",
    "csv_list = []\n",
    "for root, dirs,files in os.walk(r\"C:\\Users\\Dell Pc\\Downloads\\grading3\\house-office-expenditures-with-readme\\house-office-expenditures-with-readme\\detail\", topdown=True):\n",
    "    for name in files:\n",
    "        csv_list.append(os.path.join(root, name))"
   ]
  },
  {
   "cell_type": "code",
   "execution_count": 15,
   "metadata": {},
   "outputs": [
    {
     "data": {
      "text/plain": [
       "35"
      ]
     },
     "execution_count": 15,
     "metadata": {},
     "output_type": "execute_result"
    }
   ],
   "source": [
    "len(csv_list)"
   ]
  },
  {
   "cell_type": "code",
   "execution_count": 3,
   "metadata": {
    "collapsed": true
   },
   "outputs": [],
   "source": [
    "import pandas as pd\n",
    "import glob\n",
    "interesting_files = glob.glob(r\"C:\\Users\\Dell Pc\\Downloads\\grading3\\house-office-expenditures-with-readme\\house-office-expenditures-with-readme\\detail\\*.csv\")\n",
    "df_list = []\n",
    "for filename in sorted(interesting_files):\n",
    "    df_list.append(pd.read_csv(filename,low_memory=False,encoding='unicode_escape'))\n",
    "full_df = pd.concat(df_list)"
   ]
  },
  {
   "cell_type": "code",
   "execution_count": 4,
   "metadata": {},
   "outputs": [
    {
     "data": {
      "text/html": [
       "<div>\n",
       "<style>\n",
       "    .dataframe thead tr:only-child th {\n",
       "        text-align: right;\n",
       "    }\n",
       "\n",
       "    .dataframe thead th {\n",
       "        text-align: left;\n",
       "    }\n",
       "\n",
       "    .dataframe tbody tr th {\n",
       "        vertical-align: top;\n",
       "    }\n",
       "</style>\n",
       "<table border=\"1\" class=\"dataframe\">\n",
       "  <thead>\n",
       "    <tr style=\"text-align: right;\">\n",
       "      <th></th>\n",
       "      <th>AMOUNT</th>\n",
       "      <th>BIOGUIDE_ID</th>\n",
       "      <th>CATEGORY</th>\n",
       "      <th>DATE</th>\n",
       "      <th>END DATE</th>\n",
       "      <th>OFFICE</th>\n",
       "      <th>PAYEE</th>\n",
       "      <th>PROGRAM</th>\n",
       "      <th>PURPOSE</th>\n",
       "      <th>QUARTER</th>\n",
       "      <th>RECIP (orig.)</th>\n",
       "      <th>RECORDID</th>\n",
       "      <th>SORT SEQUENCE</th>\n",
       "      <th>START DATE</th>\n",
       "      <th>TRANSCODE</th>\n",
       "      <th>TRANSCODELONG</th>\n",
       "      <th>YEAR</th>\n",
       "    </tr>\n",
       "  </thead>\n",
       "  <tbody>\n",
       "    <tr>\n",
       "      <th>0</th>\n",
       "      <td>16,799.25</td>\n",
       "      <td>NaN</td>\n",
       "      <td>OTHER SERVICES</td>\n",
       "      <td>NaN</td>\n",
       "      <td>10/04/06</td>\n",
       "      <td>COMMUNICATIONS</td>\n",
       "      <td>07ÃÂ­01   P2 OPR0900726A                    S...</td>\n",
       "      <td>NaN</td>\n",
       "      <td>NON-TECHNOLOGY SERVICE CONTRCT</td>\n",
       "      <td>2009Q3</td>\n",
       "      <td>07ÃÂ­01   P2 OPR0900726A                    S...</td>\n",
       "      <td>NaN</td>\n",
       "      <td>NaN</td>\n",
       "      <td>10/04/06</td>\n",
       "      <td>NaN</td>\n",
       "      <td>NaN</td>\n",
       "      <td>FISCAL YEAR 2009</td>\n",
       "    </tr>\n",
       "    <tr>\n",
       "      <th>1</th>\n",
       "      <td>3,876.75</td>\n",
       "      <td>NaN</td>\n",
       "      <td>OTHER SERVICES</td>\n",
       "      <td>NaN</td>\n",
       "      <td>10/04/06</td>\n",
       "      <td>COMMUNICATIONS</td>\n",
       "      <td>07ÃÂ­22   P2 OPR0900726B                     ...</td>\n",
       "      <td>NaN</td>\n",
       "      <td>NON-TECHNOLOGY SERVICE CONTRCT</td>\n",
       "      <td>2009Q3</td>\n",
       "      <td>07ÃÂ­22   P2 OPR0900726B                     ...</td>\n",
       "      <td>NaN</td>\n",
       "      <td>NaN</td>\n",
       "      <td>10/04/06</td>\n",
       "      <td>NaN</td>\n",
       "      <td>NaN</td>\n",
       "      <td>FISCAL YEAR 2009</td>\n",
       "    </tr>\n",
       "    <tr>\n",
       "      <th>2</th>\n",
       "      <td>2,132.00</td>\n",
       "      <td>NaN</td>\n",
       "      <td>OTHER SERVICES</td>\n",
       "      <td>NaN</td>\n",
       "      <td>07/18/06</td>\n",
       "      <td>COMMUNICATIONS</td>\n",
       "      <td>08ÃÂ­06   P2 FSS0000575A                    T...</td>\n",
       "      <td>NaN</td>\n",
       "      <td>NON-TECHNOLOGY SERVICE CONTRCT</td>\n",
       "      <td>2009Q3</td>\n",
       "      <td>08ÃÂ­06   P2 FSS0000575A                    T...</td>\n",
       "      <td>NaN</td>\n",
       "      <td>NaN</td>\n",
       "      <td>07/18/06</td>\n",
       "      <td>NaN</td>\n",
       "      <td>NaN</td>\n",
       "      <td>FISCAL YEAR 2009</td>\n",
       "    </tr>\n",
       "    <tr>\n",
       "      <th>3</th>\n",
       "      <td>888.00</td>\n",
       "      <td>NaN</td>\n",
       "      <td>OTHER SERVICES</td>\n",
       "      <td>NaN</td>\n",
       "      <td>05/29/09</td>\n",
       "      <td>COMMUNICATIONS</td>\n",
       "      <td>08ÃÂ­25   P2 MFP0003163                     A...</td>\n",
       "      <td>NaN</td>\n",
       "      <td>NON-TECHNOLOGY SERVICE CONTRCT</td>\n",
       "      <td>2009Q3</td>\n",
       "      <td>08ÃÂ­25   P2 MFP0003163                     A...</td>\n",
       "      <td>NaN</td>\n",
       "      <td>NaN</td>\n",
       "      <td>05/29/09</td>\n",
       "      <td>NaN</td>\n",
       "      <td>NaN</td>\n",
       "      <td>FISCAL YEAR 2009</td>\n",
       "    </tr>\n",
       "    <tr>\n",
       "      <th>4</th>\n",
       "      <td>590.18</td>\n",
       "      <td>NaN</td>\n",
       "      <td>OTHER SERVICES</td>\n",
       "      <td>NaN</td>\n",
       "      <td>10/04/06</td>\n",
       "      <td>COMMUNICATIONS</td>\n",
       "      <td>09ÃÂ­10   P2 OPR0900726C                    S...</td>\n",
       "      <td>NaN</td>\n",
       "      <td>NON-TECHNOLOGY SERVICE CONTRCT</td>\n",
       "      <td>2009Q3</td>\n",
       "      <td>09ÃÂ­10   P2 OPR0900726C                    S...</td>\n",
       "      <td>NaN</td>\n",
       "      <td>NaN</td>\n",
       "      <td>10/04/06</td>\n",
       "      <td>NaN</td>\n",
       "      <td>NaN</td>\n",
       "      <td>FISCAL YEAR 2009</td>\n",
       "    </tr>\n",
       "  </tbody>\n",
       "</table>\n",
       "</div>"
      ],
      "text/plain": [
       "      AMOUNT BIOGUIDE_ID        CATEGORY DATE  END DATE          OFFICE  \\\n",
       "0  16,799.25         NaN  OTHER SERVICES  NaN  10/04/06  COMMUNICATIONS   \n",
       "1   3,876.75         NaN  OTHER SERVICES  NaN  10/04/06  COMMUNICATIONS   \n",
       "2   2,132.00         NaN  OTHER SERVICES  NaN  07/18/06  COMMUNICATIONS   \n",
       "3     888.00         NaN  OTHER SERVICES  NaN  05/29/09  COMMUNICATIONS   \n",
       "4     590.18         NaN  OTHER SERVICES  NaN  10/04/06  COMMUNICATIONS   \n",
       "\n",
       "                                               PAYEE PROGRAM  \\\n",
       "0  07ÃÂ­01   P2 OPR0900726A                    S...     NaN   \n",
       "1  07ÃÂ­22   P2 OPR0900726B                     ...     NaN   \n",
       "2  08ÃÂ­06   P2 FSS0000575A                    T...     NaN   \n",
       "3  08ÃÂ­25   P2 MFP0003163                     A...     NaN   \n",
       "4  09ÃÂ­10   P2 OPR0900726C                    S...     NaN   \n",
       "\n",
       "                          PURPOSE QUARTER  \\\n",
       "0  NON-TECHNOLOGY SERVICE CONTRCT  2009Q3   \n",
       "1  NON-TECHNOLOGY SERVICE CONTRCT  2009Q3   \n",
       "2  NON-TECHNOLOGY SERVICE CONTRCT  2009Q3   \n",
       "3  NON-TECHNOLOGY SERVICE CONTRCT  2009Q3   \n",
       "4  NON-TECHNOLOGY SERVICE CONTRCT  2009Q3   \n",
       "\n",
       "                                       RECIP (orig.) RECORDID SORT SEQUENCE  \\\n",
       "0  07ÃÂ­01   P2 OPR0900726A                    S...      NaN           NaN   \n",
       "1  07ÃÂ­22   P2 OPR0900726B                     ...      NaN           NaN   \n",
       "2  08ÃÂ­06   P2 FSS0000575A                    T...      NaN           NaN   \n",
       "3  08ÃÂ­25   P2 MFP0003163                     A...      NaN           NaN   \n",
       "4  09ÃÂ­10   P2 OPR0900726C                    S...      NaN           NaN   \n",
       "\n",
       "  START DATE TRANSCODE TRANSCODELONG              YEAR  \n",
       "0   10/04/06       NaN           NaN  FISCAL YEAR 2009  \n",
       "1   10/04/06       NaN           NaN  FISCAL YEAR 2009  \n",
       "2   07/18/06       NaN           NaN  FISCAL YEAR 2009  \n",
       "3   05/29/09       NaN           NaN  FISCAL YEAR 2009  \n",
       "4   10/04/06       NaN           NaN  FISCAL YEAR 2009  "
      ]
     },
     "execution_count": 4,
     "metadata": {},
     "output_type": "execute_result"
    }
   ],
   "source": [
    "full_df.head()"
   ]
  },
  {
   "cell_type": "code",
   "execution_count": 53,
   "metadata": {},
   "outputs": [
    {
     "name": "stderr",
     "output_type": "stream",
     "text": [
      "C:\\Anaconda3\\lib\\site-packages\\ipykernel_launcher.py:1: FutureWarning: convert_objects is deprecated.  Use the data-type specific converters pd.to_datetime, pd.to_timedelta and pd.to_numeric.\n",
      "  \"\"\"Entry point for launching an IPython kernel.\n"
     ]
    }
   ],
   "source": [
    "full_df.AMOUNT=full_df.AMOUNT.convert_objects(convert_numeric=True)"
   ]
  },
  {
   "cell_type": "markdown",
   "metadata": {},
   "source": [
    "What is the total of all the payments in the dataset?"
   ]
  },
  {
   "cell_type": "code",
   "execution_count": 54,
   "metadata": {},
   "outputs": [
    {
     "data": {
      "text/plain": [
       "4608691726.389622"
      ]
     },
     "execution_count": 54,
     "metadata": {},
     "output_type": "execute_result"
    }
   ],
   "source": [
    "full_df.AMOUNT.sum()"
   ]
  },
  {
   "cell_type": "code",
   "execution_count": 60,
   "metadata": {},
   "outputs": [
    {
     "name": "stdout",
     "output_type": "stream",
     "text": [
      "<class 'pandas.core.frame.DataFrame'>\n",
      "Int64Index: 3542048 entries, 0 to 77046\n",
      "Data columns (total 17 columns):\n",
      "AMOUNT           float64\n",
      "BIOGUIDE_ID      object\n",
      "CATEGORY         object\n",
      "DATE             object\n",
      "END DATE         object\n",
      "OFFICE           object\n",
      "PAYEE            object\n",
      "PROGRAM          object\n",
      "PURPOSE          object\n",
      "QUARTER          object\n",
      "RECIP (orig.)    object\n",
      "RECORDID         object\n",
      "SORT SEQUENCE    object\n",
      "START DATE       object\n",
      "TRANSCODE        object\n",
      "TRANSCODELONG    object\n",
      "YEAR             object\n",
      "dtypes: float64(1), object(16)\n",
      "memory usage: 566.4+ MB\n"
     ]
    }
   ],
   "source": [
    "full_df.info()"
   ]
  },
  {
   "cell_type": "code",
   "execution_count": 73,
   "metadata": {
    "collapsed": true
   },
   "outputs": [],
   "source": [
    "df = pd.read_csv(r'C:\\Users\\Dell Pc\\Downloads\\grading3\\house-office-expenditures-with-readme\\house-office-expenditures-with-readme\\detail\\2009Q3-house-disburse-detail.csv')"
   ]
  },
  {
   "cell_type": "code",
   "execution_count": 74,
   "metadata": {},
   "outputs": [
    {
     "data": {
      "text/plain": [
       "(123344, 15)"
      ]
     },
     "execution_count": 74,
     "metadata": {},
     "output_type": "execute_result"
    }
   ],
   "source": [
    "df.shape"
   ]
  },
  {
   "cell_type": "code",
   "execution_count": 75,
   "metadata": {
    "scrolled": true
   },
   "outputs": [
    {
     "name": "stdout",
     "output_type": "stream",
     "text": [
      "<class 'pandas.core.frame.DataFrame'>\n",
      "RangeIndex: 123344 entries, 0 to 123343\n",
      "Data columns (total 15 columns):\n",
      "BIOGUIDE_ID      93489 non-null object\n",
      "OFFICE           123344 non-null object\n",
      "QUARTER          123344 non-null object\n",
      "CATEGORY         123344 non-null object\n",
      "DATE             0 non-null float64\n",
      "PAYEE            123344 non-null object\n",
      "START DATE       123344 non-null object\n",
      "END DATE         123344 non-null object\n",
      "PURPOSE          123344 non-null object\n",
      "AMOUNT           123344 non-null object\n",
      "YEAR             123344 non-null object\n",
      "TRANSCODE        0 non-null float64\n",
      "TRANSCODELONG    0 non-null float64\n",
      "RECORDID         0 non-null float64\n",
      "RECIP (orig.)    123344 non-null object\n",
      "dtypes: float64(4), object(11)\n",
      "memory usage: 14.1+ MB\n"
     ]
    }
   ],
   "source": [
    "df.info()"
   ]
  },
  {
   "cell_type": "code",
   "execution_count": 76,
   "metadata": {
    "collapsed": true
   },
   "outputs": [],
   "source": [
    "df['START DATE'] = pd.to_datetime(df['START DATE'])"
   ]
  },
  {
   "cell_type": "code",
   "execution_count": 72,
   "metadata": {},
   "outputs": [
    {
     "name": "stdout",
     "output_type": "stream",
     "text": [
      "176 µs ± 3.28 µs per loop (mean ± std. dev. of 7 runs, 1000 loops each)\n"
     ]
    }
   ],
   "source": [
    "%timeit pd.to_datetime(df['START DATE'])"
   ]
  },
  {
   "cell_type": "code",
   "execution_count": 3,
   "metadata": {},
   "outputs": [],
   "source": [
    "import pandas as pd\n",
    "import glob\n",
    "new2010_2016_files = glob.glob(r\"C:\\Users\\Dell Pc\\Downloads\\grading3\\house-office-expenditures-with-readme\\house-office-expenditures-with-readme\\new_2010_2016\\*.csv\")\n",
    "df_list = []\n",
    "for filename in sorted(new2010_2016_files):\n",
    "    df_list.append(pd.read_csv(filename,low_memory=False,encoding='unicode_escape'))\n",
    "df_2010_2016 = pd.concat(df_list)"
   ]
  },
  {
   "cell_type": "code",
   "execution_count": 4,
   "metadata": {},
   "outputs": [
    {
     "data": {
      "text/html": [
       "<div>\n",
       "<style>\n",
       "    .dataframe thead tr:only-child th {\n",
       "        text-align: right;\n",
       "    }\n",
       "\n",
       "    .dataframe thead th {\n",
       "        text-align: left;\n",
       "    }\n",
       "\n",
       "    .dataframe tbody tr th {\n",
       "        vertical-align: top;\n",
       "    }\n",
       "</style>\n",
       "<table border=\"1\" class=\"dataframe\">\n",
       "  <thead>\n",
       "    <tr style=\"text-align: right;\">\n",
       "      <th></th>\n",
       "      <th>AMOUNT</th>\n",
       "      <th>BIOGUIDE_ID</th>\n",
       "      <th>CATEGORY</th>\n",
       "      <th>DATE</th>\n",
       "      <th>END DATE</th>\n",
       "      <th>OFFICE</th>\n",
       "      <th>PAYEE</th>\n",
       "      <th>PROGRAM</th>\n",
       "      <th>PURPOSE</th>\n",
       "      <th>QUARTER</th>\n",
       "      <th>RECIP (orig.)</th>\n",
       "      <th>RECORDID</th>\n",
       "      <th>START DATE</th>\n",
       "      <th>TRANSCODE</th>\n",
       "      <th>TRANSCODELONG</th>\n",
       "      <th>YEAR</th>\n",
       "    </tr>\n",
       "  </thead>\n",
       "  <tbody>\n",
       "    <tr>\n",
       "      <th>0</th>\n",
       "      <td>455.00</td>\n",
       "      <td>NaN</td>\n",
       "      <td>OTHER SERVICES</td>\n",
       "      <td>NaN</td>\n",
       "      <td>03/02/10</td>\n",
       "      <td>COMMUNICATIONS</td>\n",
       "      <td>03Â­10       P2 MFP0003226                    ...</td>\n",
       "      <td>NaN</td>\n",
       "      <td>NON-TECHNOLOGY SERVICE CONTRCT</td>\n",
       "      <td>2010Q1</td>\n",
       "      <td>03Â­10       P2 MFP0003226                    ...</td>\n",
       "      <td>NaN</td>\n",
       "      <td>03/02/10</td>\n",
       "      <td>NaN</td>\n",
       "      <td>NaN</td>\n",
       "      <td>FISCAL YEAR 2010</td>\n",
       "    </tr>\n",
       "    <tr>\n",
       "      <th>1</th>\n",
       "      <td>47.26</td>\n",
       "      <td>NaN</td>\n",
       "      <td>SUPPLIES AND MATERIALS</td>\n",
       "      <td>NaN</td>\n",
       "      <td>11/28/09</td>\n",
       "      <td>COMMUNICATIONS</td>\n",
       "      <td>02Â­05       P2    MFP0003219       ALLSTEEL</td>\n",
       "      <td>NaN</td>\n",
       "      <td>HABITATION EXPENSES</td>\n",
       "      <td>2010Q1</td>\n",
       "      <td>02Â­05       P2    MFP0003219       ALLSTEEL</td>\n",
       "      <td>NaN</td>\n",
       "      <td>11/28/09</td>\n",
       "      <td>NaN</td>\n",
       "      <td>NaN</td>\n",
       "      <td>FISCAL YEAR 2010</td>\n",
       "    </tr>\n",
       "    <tr>\n",
       "      <th>2</th>\n",
       "      <td>250.00</td>\n",
       "      <td>NaN</td>\n",
       "      <td>SUPPLIES AND MATERIALS</td>\n",
       "      <td>NaN</td>\n",
       "      <td>12/21/09</td>\n",
       "      <td>COMMUNICATIONS</td>\n",
       "      <td>03Â­05       P2    OSM42304         CDW GOVERN...</td>\n",
       "      <td>NaN</td>\n",
       "      <td>OFFICE SUPPLIES OUTSIDE</td>\n",
       "      <td>2010Q1</td>\n",
       "      <td>03Â­05       P2    OSM42304         CDW GOVERN...</td>\n",
       "      <td>NaN</td>\n",
       "      <td>12/21/09</td>\n",
       "      <td>NaN</td>\n",
       "      <td>NaN</td>\n",
       "      <td>FISCAL YEAR 2010</td>\n",
       "    </tr>\n",
       "    <tr>\n",
       "      <th>3</th>\n",
       "      <td>436.00</td>\n",
       "      <td>NaN</td>\n",
       "      <td>SUPPLIES AND MATERIALS</td>\n",
       "      <td>NaN</td>\n",
       "      <td>12/21/09</td>\n",
       "      <td>COMMUNICATIONS</td>\n",
       "      <td>03Â­05       P2    OSM42304              DO</td>\n",
       "      <td>NaN</td>\n",
       "      <td>OFFICE SUPPLIES OUTSIDE</td>\n",
       "      <td>2010Q1</td>\n",
       "      <td>03Â­05       P2    OSM42304              DO</td>\n",
       "      <td>NaN</td>\n",
       "      <td>12/21/09</td>\n",
       "      <td>NaN</td>\n",
       "      <td>NaN</td>\n",
       "      <td>FISCAL YEAR 2010</td>\n",
       "    </tr>\n",
       "    <tr>\n",
       "      <th>4</th>\n",
       "      <td>37.90</td>\n",
       "      <td>NaN</td>\n",
       "      <td>SUPPLIES AND MATERIALS</td>\n",
       "      <td>NaN</td>\n",
       "      <td>12/21/09</td>\n",
       "      <td>COMMUNICATIONS</td>\n",
       "      <td>03Â­05       P2    OSM42304              DO</td>\n",
       "      <td>NaN</td>\n",
       "      <td>OFFICE SUPPLIES OUTSIDE</td>\n",
       "      <td>2010Q1</td>\n",
       "      <td>03Â­05       P2    OSM42304              DO</td>\n",
       "      <td>NaN</td>\n",
       "      <td>12/21/09</td>\n",
       "      <td>NaN</td>\n",
       "      <td>NaN</td>\n",
       "      <td>FISCAL YEAR 2010</td>\n",
       "    </tr>\n",
       "  </tbody>\n",
       "</table>\n",
       "</div>"
      ],
      "text/plain": [
       "   AMOUNT BIOGUIDE_ID                CATEGORY DATE  END DATE          OFFICE  \\\n",
       "0  455.00         NaN          OTHER SERVICES  NaN  03/02/10  COMMUNICATIONS   \n",
       "1   47.26         NaN  SUPPLIES AND MATERIALS  NaN  11/28/09  COMMUNICATIONS   \n",
       "2  250.00         NaN  SUPPLIES AND MATERIALS  NaN  12/21/09  COMMUNICATIONS   \n",
       "3  436.00         NaN  SUPPLIES AND MATERIALS  NaN  12/21/09  COMMUNICATIONS   \n",
       "4   37.90         NaN  SUPPLIES AND MATERIALS  NaN  12/21/09  COMMUNICATIONS   \n",
       "\n",
       "                                               PAYEE PROGRAM  \\\n",
       "0  03Â­10       P2 MFP0003226                    ...     NaN   \n",
       "1       02Â­05       P2    MFP0003219       ALLSTEEL     NaN   \n",
       "2  03Â­05       P2    OSM42304         CDW GOVERN...     NaN   \n",
       "3        03Â­05       P2    OSM42304              DO     NaN   \n",
       "4        03Â­05       P2    OSM42304              DO     NaN   \n",
       "\n",
       "                          PURPOSE QUARTER  \\\n",
       "0  NON-TECHNOLOGY SERVICE CONTRCT  2010Q1   \n",
       "1             HABITATION EXPENSES  2010Q1   \n",
       "2         OFFICE SUPPLIES OUTSIDE  2010Q1   \n",
       "3         OFFICE SUPPLIES OUTSIDE  2010Q1   \n",
       "4         OFFICE SUPPLIES OUTSIDE  2010Q1   \n",
       "\n",
       "                                       RECIP (orig.) RECORDID START DATE  \\\n",
       "0  03Â­10       P2 MFP0003226                    ...      NaN   03/02/10   \n",
       "1       02Â­05       P2    MFP0003219       ALLSTEEL      NaN   11/28/09   \n",
       "2  03Â­05       P2    OSM42304         CDW GOVERN...      NaN   12/21/09   \n",
       "3        03Â­05       P2    OSM42304              DO      NaN   12/21/09   \n",
       "4        03Â­05       P2    OSM42304              DO      NaN   12/21/09   \n",
       "\n",
       "  TRANSCODE TRANSCODELONG              YEAR  \n",
       "0       NaN           NaN  FISCAL YEAR 2010  \n",
       "1       NaN           NaN  FISCAL YEAR 2010  \n",
       "2       NaN           NaN  FISCAL YEAR 2010  \n",
       "3       NaN           NaN  FISCAL YEAR 2010  \n",
       "4       NaN           NaN  FISCAL YEAR 2010  "
      ]
     },
     "execution_count": 4,
     "metadata": {},
     "output_type": "execute_result"
    }
   ],
   "source": [
    "df_2010_2016.head()"
   ]
  },
  {
   "cell_type": "code",
   "execution_count": 5,
   "metadata": {},
   "outputs": [
    {
     "name": "stderr",
     "output_type": "stream",
     "text": [
      "C:\\Anaconda3\\lib\\site-packages\\ipykernel_launcher.py:1: FutureWarning: convert_objects is deprecated.  Use the data-type specific converters pd.to_datetime, pd.to_timedelta and pd.to_numeric.\n",
      "  \"\"\"Entry point for launching an IPython kernel.\n"
     ]
    }
   ],
   "source": [
    "df_2010_2016.AMOUNT=df_2010_2016.AMOUNT.convert_objects(convert_numeric=True)"
   ]
  },
  {
   "cell_type": "code",
   "execution_count": 8,
   "metadata": {},
   "outputs": [
    {
     "data": {
      "text/plain": [
       "110326284.85719837"
      ]
     },
     "execution_count": 8,
     "metadata": {},
     "output_type": "execute_result"
    }
   ],
   "source": [
    "df_2010_2016[df_2010_2016.AMOUNT>0]['AMOUNT'].sum()/7"
   ]
  },
  {
   "cell_type": "code",
   "execution_count": 9,
   "metadata": {
    "collapsed": true
   },
   "outputs": [],
   "source": [
    "new2016_files = glob.glob(r\"C:\\Users\\Dell Pc\\Downloads\\grading3\\house-office-expenditures-with-readme\\house-office-expenditures-with-readme\\new_2010_2016\\2016\\*.csv\")\n",
    "df_list = []\n",
    "for filename in sorted(new2016_files):\n",
    "    df_list.append(pd.read_csv(filename,low_memory=False,encoding='unicode_escape'))\n",
    "df_2016 = pd.concat(df_list)"
   ]
  },
  {
   "cell_type": "code",
   "execution_count": 10,
   "metadata": {},
   "outputs": [
    {
     "data": {
      "text/html": [
       "<div>\n",
       "<style>\n",
       "    .dataframe thead tr:only-child th {\n",
       "        text-align: right;\n",
       "    }\n",
       "\n",
       "    .dataframe thead th {\n",
       "        text-align: left;\n",
       "    }\n",
       "\n",
       "    .dataframe tbody tr th {\n",
       "        vertical-align: top;\n",
       "    }\n",
       "</style>\n",
       "<table border=\"1\" class=\"dataframe\">\n",
       "  <thead>\n",
       "    <tr style=\"text-align: right;\">\n",
       "      <th></th>\n",
       "      <th>AMOUNT</th>\n",
       "      <th>BIOGUIDE_ID</th>\n",
       "      <th>CATEGORY</th>\n",
       "      <th>DATE</th>\n",
       "      <th>END DATE</th>\n",
       "      <th>OFFICE</th>\n",
       "      <th>PAYEE</th>\n",
       "      <th>PROGRAM</th>\n",
       "      <th>PURPOSE</th>\n",
       "      <th>QUARTER</th>\n",
       "      <th>RECIP (orig.)</th>\n",
       "      <th>RECORDID</th>\n",
       "      <th>START DATE</th>\n",
       "      <th>TRANSCODE</th>\n",
       "      <th>TRANSCODELONG</th>\n",
       "      <th>YEAR</th>\n",
       "    </tr>\n",
       "  </thead>\n",
       "  <tbody>\n",
       "    <tr>\n",
       "      <th>0</th>\n",
       "      <td>380.00</td>\n",
       "      <td>NaN</td>\n",
       "      <td>SUPPLIES AND MATERIALS</td>\n",
       "      <td>03-18</td>\n",
       "      <td>02/28/16</td>\n",
       "      <td>OFFICE OF THE SPEAKER</td>\n",
       "      <td>CITI PCARD-GALLERIA FLORIST</td>\n",
       "      <td>NaN</td>\n",
       "      <td>HABITATION EXPENSE</td>\n",
       "      <td>2016Q1</td>\n",
       "      <td>CITI PCARD-GALLERIA FLORIST</td>\n",
       "      <td>00849255</td>\n",
       "      <td>01/29/16</td>\n",
       "      <td>AP</td>\n",
       "      <td>Accounts payable</td>\n",
       "      <td>2016</td>\n",
       "    </tr>\n",
       "    <tr>\n",
       "      <th>1</th>\n",
       "      <td>6,666.67</td>\n",
       "      <td>NaN</td>\n",
       "      <td>PERSONNEL COMPENSATION</td>\n",
       "      <td>NaN</td>\n",
       "      <td>03/31/16</td>\n",
       "      <td>OFFICE OF THE SPEAKER</td>\n",
       "      <td>ALTHOUSE,JOSHUA S</td>\n",
       "      <td>NaN</td>\n",
       "      <td>CONSERV COALITION OUTREACH COR</td>\n",
       "      <td>2016Q1</td>\n",
       "      <td>ALTHOUSE,JOSHUA S</td>\n",
       "      <td>NaN</td>\n",
       "      <td>02/01/16</td>\n",
       "      <td>NaN</td>\n",
       "      <td>NaN</td>\n",
       "      <td>2016</td>\n",
       "    </tr>\n",
       "    <tr>\n",
       "      <th>2</th>\n",
       "      <td>25,666.67</td>\n",
       "      <td>NaN</td>\n",
       "      <td>PERSONNEL COMPENSATION</td>\n",
       "      <td>NaN</td>\n",
       "      <td>03/31/16</td>\n",
       "      <td>OFFICE OF THE SPEAKER</td>\n",
       "      <td>ANDRES,DOUGLAS R</td>\n",
       "      <td>NaN</td>\n",
       "      <td>PRESS SECRETARY</td>\n",
       "      <td>2016Q1</td>\n",
       "      <td>ANDRES,DOUGLAS R</td>\n",
       "      <td>NaN</td>\n",
       "      <td>01/03/16</td>\n",
       "      <td>NaN</td>\n",
       "      <td>NaN</td>\n",
       "      <td>2016</td>\n",
       "    </tr>\n",
       "    <tr>\n",
       "      <th>3</th>\n",
       "      <td>18,333.33</td>\n",
       "      <td>NaN</td>\n",
       "      <td>PERSONNEL COMPENSATION</td>\n",
       "      <td>NaN</td>\n",
       "      <td>03/31/16</td>\n",
       "      <td>OFFICE OF THE SPEAKER</td>\n",
       "      <td>ANDREWS,THOMAS S</td>\n",
       "      <td>NaN</td>\n",
       "      <td>MEMBER SERVICES COORDINATOR</td>\n",
       "      <td>2016Q1</td>\n",
       "      <td>ANDREWS,THOMAS S</td>\n",
       "      <td>NaN</td>\n",
       "      <td>01/03/16</td>\n",
       "      <td>NaN</td>\n",
       "      <td>NaN</td>\n",
       "      <td>2016</td>\n",
       "    </tr>\n",
       "    <tr>\n",
       "      <th>4</th>\n",
       "      <td>26,250.00</td>\n",
       "      <td>NaN</td>\n",
       "      <td>PERSONNEL COMPENSATION</td>\n",
       "      <td>NaN</td>\n",
       "      <td>03/31/16</td>\n",
       "      <td>OFFICE OF THE SPEAKER</td>\n",
       "      <td>ANTELL,GEOFFREY</td>\n",
       "      <td>NaN</td>\n",
       "      <td>ASST TO THE SPEAKER FOR POLICY</td>\n",
       "      <td>2016Q1</td>\n",
       "      <td>ANTELL,GEOFFREY</td>\n",
       "      <td>NaN</td>\n",
       "      <td>01/28/16</td>\n",
       "      <td>NaN</td>\n",
       "      <td>NaN</td>\n",
       "      <td>2016</td>\n",
       "    </tr>\n",
       "  </tbody>\n",
       "</table>\n",
       "</div>"
      ],
      "text/plain": [
       "      AMOUNT BIOGUIDE_ID                CATEGORY   DATE  END DATE  \\\n",
       "0     380.00         NaN  SUPPLIES AND MATERIALS  03-18  02/28/16   \n",
       "1   6,666.67         NaN  PERSONNEL COMPENSATION    NaN  03/31/16   \n",
       "2  25,666.67         NaN  PERSONNEL COMPENSATION    NaN  03/31/16   \n",
       "3  18,333.33         NaN  PERSONNEL COMPENSATION    NaN  03/31/16   \n",
       "4  26,250.00         NaN  PERSONNEL COMPENSATION    NaN  03/31/16   \n",
       "\n",
       "                  OFFICE                        PAYEE PROGRAM  \\\n",
       "0  OFFICE OF THE SPEAKER  CITI PCARD-GALLERIA FLORIST     NaN   \n",
       "1  OFFICE OF THE SPEAKER            ALTHOUSE,JOSHUA S     NaN   \n",
       "2  OFFICE OF THE SPEAKER             ANDRES,DOUGLAS R     NaN   \n",
       "3  OFFICE OF THE SPEAKER             ANDREWS,THOMAS S     NaN   \n",
       "4  OFFICE OF THE SPEAKER              ANTELL,GEOFFREY     NaN   \n",
       "\n",
       "                          PURPOSE QUARTER                RECIP (orig.)  \\\n",
       "0              HABITATION EXPENSE  2016Q1  CITI PCARD-GALLERIA FLORIST   \n",
       "1  CONSERV COALITION OUTREACH COR  2016Q1            ALTHOUSE,JOSHUA S   \n",
       "2                 PRESS SECRETARY  2016Q1             ANDRES,DOUGLAS R   \n",
       "3     MEMBER SERVICES COORDINATOR  2016Q1             ANDREWS,THOMAS S   \n",
       "4  ASST TO THE SPEAKER FOR POLICY  2016Q1              ANTELL,GEOFFREY   \n",
       "\n",
       "   RECORDID START DATE TRANSCODE     TRANSCODELONG  YEAR  \n",
       "0  00849255   01/29/16        AP  Accounts payable  2016  \n",
       "1       NaN   02/01/16       NaN               NaN  2016  \n",
       "2       NaN   01/03/16       NaN               NaN  2016  \n",
       "3       NaN   01/03/16       NaN               NaN  2016  \n",
       "4       NaN   01/28/16       NaN               NaN  2016  "
      ]
     },
     "execution_count": 10,
     "metadata": {},
     "output_type": "execute_result"
    }
   ],
   "source": [
    "df_2016.head()"
   ]
  },
  {
   "cell_type": "code",
   "execution_count": 11,
   "metadata": {},
   "outputs": [
    {
     "name": "stderr",
     "output_type": "stream",
     "text": [
      "C:\\Anaconda3\\lib\\site-packages\\ipykernel_launcher.py:1: FutureWarning: convert_objects is deprecated.  Use the data-type specific converters pd.to_datetime, pd.to_timedelta and pd.to_numeric.\n",
      "  \"\"\"Entry point for launching an IPython kernel.\n"
     ]
    }
   ],
   "source": [
    "df_2016.AMOUNT=df_2016.AMOUNT.convert_objects(convert_numeric=True)"
   ]
  },
  {
   "cell_type": "code",
   "execution_count": 13,
   "metadata": {},
   "outputs": [
    {
     "data": {
      "text/plain": [
       "579500.0"
      ]
     },
     "execution_count": 13,
     "metadata": {},
     "output_type": "execute_result"
    }
   ],
   "source": [
    "max(df_2016.groupby('PAYEE')['AMOUNT'].mean())"
   ]
  },
  {
   "cell_type": "code",
   "execution_count": null,
   "metadata": {
    "collapsed": true
   },
   "outputs": [],
   "source": []
  }
 ],
 "metadata": {
  "kernelspec": {
   "display_name": "Python 3",
   "language": "python",
   "name": "python3"
  },
  "language_info": {
   "codemirror_mode": {
    "name": "ipython",
    "version": 3
   },
   "file_extension": ".py",
   "mimetype": "text/x-python",
   "name": "python",
   "nbconvert_exporter": "python",
   "pygments_lexer": "ipython3",
   "version": "3.6.2"
  }
 },
 "nbformat": 4,
 "nbformat_minor": 2
}
